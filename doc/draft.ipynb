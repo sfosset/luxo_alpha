{
 "cells": [
  {
   "cell_type": "markdown",
   "metadata": {},
   "source": [
    "# Draft\n"
   ]
  },
  {
   "cell_type": "markdown",
   "metadata": {},
   "source": [
    "### What happen when using PoppyHumanoid(simulator=\"vrep\") ? "
   ]
  },
  {
   "cell_type": "markdown",
   "metadata": {},
   "source": [
    "[PoppyHumanoid](https://github.com/poppy-project/poppy-humanoid/blob/master/software/poppy_humanoid/poppy_humanoid.py) inherit from [AbstractPoppyCreature](https://github.com/poppy-project/poppy-creature/blob/master/software/poppy/creatures/abstractcreature.py) which inherit from [Robot](https://github.com/poppy-project/pypot/blob/master/pypot/robot/robot.py)\n",
    "\n",
    "AbstractPoppyCreature has its own constructor which 1) create the robot instance (with from_vrep in our case) 2) run the cls.setup(robot) method 3) return the robot instance. (This means, the AbstractPoppyCreature inheritance from Robot is in fact respected, but makes no sense...)\n",
    "\n",
    "As i said, the Robot instance comes from the [pypot.vrep.from_vrep()](https://github.com/poppy-project/pypot/blob/master/pypot/vrep/__init__.py) function with the following parameter : \n",
    "* a base config file (the one which is in the creature's package's config directory)\n",
    "* a vrep scene (if not specified, the one in the creature's package's vrep-scene directory) : don't forget to add a force and timer object.\n",
    "\n",
    "What exactly happen here with from_vrep ?\n",
    "1. a vrep_io (which inherits from pypot.io) instance is created, to communicate with vrep\n",
    "2. a vrep_controller (which inherits from MotorsController) instance is created to control the robot and sync the pypot model motors and the vrep motors\n",
    "3. a Robot instance is created \n",
    "\n"
   ]
  },
  {
   "cell_type": "code",
   "execution_count": 5,
   "metadata": {
    "collapsed": false
   },
   "outputs": [
    {
     "name": "stderr",
     "output_type": "stream",
     "text": [
      "Exception in thread Thread-3:\n",
      "Traceback (most recent call last):\n",
      "  File \"/usr/lib/python3.5/threading.py\", line 923, in _bootstrap_inner\n",
      "    self.run()\n",
      "  File \"/usr/lib/python3.5/threading.py\", line 871, in run\n",
      "    self._target(*self._args, **self._kwargs)\n",
      "  File \"/usr/lib/python3.5/site-packages/pypot/utils/stoppablethread.py\", line 119, in _wrapped_target\n",
      "    self._target()\n",
      "  File \"/usr/lib/python3.5/site-packages/pypot/utils/stoppablethread.py\", line 179, in run\n",
      "    make_update_loop(self, self._update)\n",
      "  File \"/usr/lib/python3.5/site-packages/pypot/utils/stoppablethread.py\", line 152, in make_update_loop\n",
      "    update_func()\n",
      "  File \"/usr/lib/python3.5/site-packages/pypot/vrep/controller.py\", line 49, in update\n",
      "    rad2deg(self.io.get_motor_position(motor_name=m.name)), 1)\n",
      "  File \"/usr/lib/python3.5/site-packages/pypot/vrep/io.py\", line 146, in get_motor_position\n",
      "    streaming=True)\n",
      "  File \"/usr/lib/python3.5/site-packages/pypot/vrep/io.py\", line 355, in call_remote_api\n",
      "    raise VrepIOErrors(msg)\n",
      "pypot.vrep.io.VrepIOErrors: Remote error\n",
      "\n"
     ]
    }
   ],
   "source": [
    "import json\n",
    "import pypot.vrep\n",
    "\n",
    "my_path = '/home/steven/luxo/luxo_alpha/model_1/'\n",
    "\n",
    "#Don't forget to launch vrep\n",
    "pypot.vrep.close_all_connections()\n",
    "s_robot = pypot.vrep.from_vrep(config=my_path+'config_1.json', scene = my_path+'scene_1.ttt')\n",
    "#s_robot.start_simulation()\n"
   ]
  },
  {
   "cell_type": "code",
   "execution_count": 9,
   "metadata": {
    "collapsed": false
   },
   "outputs": [],
   "source": [
    "s_robot.motor_1.goal_position = 0"
   ]
  },
  {
   "cell_type": "code",
   "execution_count": 4,
   "metadata": {
    "collapsed": false
   },
   "outputs": [
    {
     "ename": "SystemError",
     "evalue": "Parent module '' not loaded, cannot perform relative import",
     "output_type": "error",
     "traceback": [
      "\u001b[1;31m---------------------------------------------------------------------------\u001b[0m",
      "\u001b[1;31mSystemError\u001b[0m                               Traceback (most recent call last)",
      "\u001b[1;32m<ipython-input-4-b513cbdd9d83>\u001b[0m in \u001b[0;36m<module>\u001b[1;34m()\u001b[0m\n\u001b[0;32m      1\u001b[0m \u001b[1;32mimport\u001b[0m \u001b[0mjson\u001b[0m\u001b[1;33m\u001b[0m\u001b[0m\n\u001b[0;32m      2\u001b[0m \u001b[1;32mimport\u001b[0m \u001b[0mpypot\u001b[0m\u001b[1;33m.\u001b[0m\u001b[0mvrep\u001b[0m\u001b[1;33m\u001b[0m\u001b[0m\n\u001b[1;32m----> 3\u001b[1;33m \u001b[1;32mfrom\u001b[0m \u001b[1;33m.\u001b[0m\u001b[1;33m.\u001b[0m\u001b[0msrc\u001b[0m\u001b[1;33m.\u001b[0m\u001b[0mfollowingrobot\u001b[0m \u001b[1;32mimport\u001b[0m \u001b[0mFollowingRobot\u001b[0m\u001b[1;33m\u001b[0m\u001b[0m\n\u001b[0m\u001b[0;32m      4\u001b[0m \u001b[1;33m\u001b[0m\u001b[0m\n\u001b[0;32m      5\u001b[0m \u001b[0mmy_path\u001b[0m \u001b[1;33m=\u001b[0m \u001b[1;34m'/home/steven/luxo/luxo_alpha/model_1/'\u001b[0m\u001b[1;33m\u001b[0m\u001b[0m\n",
      "\u001b[1;31mSystemError\u001b[0m: Parent module '' not loaded, cannot perform relative import"
     ]
    }
   ],
   "source": [
    "import json\n",
    "import pypot.vrep\n",
    "from ..src.followingrobot import FollowingRobot\n",
    "\n",
    "my_path = '/home/steven/luxo/luxo_alpha/model_1/'\n",
    "pypot.vrep.close_all_connections()"
   ]
  },
  {
   "cell_type": "code",
   "execution_count": null,
   "metadata": {
    "collapsed": true
   },
   "outputs": [],
   "source": [
    "import pypot.dynamixel\n",
    "ports = pypot.dynamixel.get_available_ports()\n",
    "dxl_io = pypot.dynamixel.DxlIO(ports[0])\n",
    "dxl_io.scan()\n",
    "dxl_io.close()"
   ]
  }
 ],
 "metadata": {
  "kernelspec": {
   "display_name": "Python 3",
   "language": "python",
   "name": "python3"
  },
  "language_info": {
   "codemirror_mode": {
    "name": "ipython",
    "version": 3
   },
   "file_extension": ".py",
   "mimetype": "text/x-python",
   "name": "python",
   "nbconvert_exporter": "python",
   "pygments_lexer": "ipython3",
   "version": "3.5.0"
  }
 },
 "nbformat": 4,
 "nbformat_minor": 0
}
