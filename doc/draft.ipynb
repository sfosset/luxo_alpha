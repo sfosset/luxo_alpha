{
 "cells": [
  {
   "cell_type": "markdown",
   "metadata": {},
   "source": [
    "# Draft\n"
   ]
  },
  {
   "cell_type": "markdown",
   "metadata": {},
   "source": [
    "### What happen when using PoppyHumanoid(simulator=\"vrep\") ? "
   ]
  },
  {
   "cell_type": "markdown",
   "metadata": {},
   "source": [
    "[PoppyHumanoid](https://github.com/poppy-project/poppy-humanoid/blob/master/software/poppy_humanoid/poppy_humanoid.py) inherit from [AbstractPoppyCreature](https://github.com/poppy-project/poppy-creature/blob/master/software/poppy/creatures/abstractcreature.py) which inherit from [Robot](https://github.com/poppy-project/pypot/blob/master/pypot/robot/robot.py)\n",
    "\n",
    "AbstractPoppyCreature has its own constructor which 1) create the robot instance (with from_vrep in our case) 2) run the cls.setup(robot) method 3) return the robot instance. (This means, the AbstractPoppyCreature inheritance from Robot is in fact respected, but makes no sense...)\n",
    "\n",
    "As i said, the Robot instance comes from the [pypot.vrep.from_vrep()](https://github.com/poppy-project/pypot/blob/master/pypot/vrep/__init__.py) function with the following parameter : \n",
    "* a base config file (the one which is in the creature's package's config directory)\n",
    "* a vrep scene (if not specified, the one in the creature's package's vrep-scene directory) : don't forget to add a force and timer object.\n",
    "\n",
    "What exactly happen here with from_vrep ?\n",
    "1. a vrep_io (which inherits from pypot.io) instance is created, to communicate with vrep\n",
    "2. a vrep_controller (which inherits from MotorsController) instance is created to control the robot and sync the pypot model motors and the vrep motors\n",
    "3. a Robot instance is created \n",
    "\n"
   ]
  },
  {
   "cell_type": "code",
   "execution_count": 2,
   "metadata": {
    "collapsed": false
   },
   "outputs": [],
   "source": [
    "import json\n",
    "import pypot.vrep\n",
    "\n",
    "my_path = '/home/steven/luxo/luxo_alpha/model_1/'\n",
    "\n",
    "#Don't forget to launch vrep\n",
    "pypot.vrep.close_all_connections()\n",
    "s_robot = pypot.vrep.from_vrep(config=my_path+'config_1.json', scene = my_path+'test_scene.ttt')\n",
    "#s_robot.start_simulation()\n"
   ]
  },
  {
   "cell_type": "code",
   "execution_count": 3,
   "metadata": {
    "collapsed": false
   },
   "outputs": [],
   "source": [
    "s_robot.motor_1.goal_position = 10"
   ]
  }
 ],
 "metadata": {
  "kernelspec": {
   "display_name": "Python 3",
   "language": "python",
   "name": "python3"
  },
  "language_info": {
   "codemirror_mode": {
    "name": "ipython",
    "version": 3
   },
   "file_extension": ".py",
   "mimetype": "text/x-python",
   "name": "python",
   "nbconvert_exporter": "python",
   "pygments_lexer": "ipython3",
   "version": "3.5.0"
  }
 },
 "nbformat": 4,
 "nbformat_minor": 0
}
